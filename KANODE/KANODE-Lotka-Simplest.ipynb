{
 "cells": [
  {
   "cell_type": "markdown",
   "metadata": {},
   "source": [
    "This is a notebook that has the simplest implementation of KAN-ODEs. It shows how to generate the data, define a KAN then pass it to a NeuralODE, then shows how to train it. It also introduces the `ProgressBar.jl` package."
   ]
  },
  {
   "cell_type": "code",
   "execution_count": 1,
   "metadata": {},
   "outputs": [
    {
     "name": "stderr",
     "output_type": "stream",
     "text": [
      "WARNING: using Optimisers.Adam in module Main conflicts with an existing identifier.\n"
     ]
    },
    {
     "data": {
      "text/plain": [
       "activation_getter (generic function with 1 method)"
      ]
     },
     "metadata": {},
     "output_type": "display_data"
    }
   ],
   "source": [
    "using Random, Lux, LinearAlgebra\n",
    "using NNlib, ConcreteStructs, WeightInitializers, ChainRulesCore\n",
    "using ComponentArrays\n",
    "using BenchmarkTools\n",
    "using OrdinaryDiffEq, Plots, DiffEqFlux, ForwardDiff\n",
    "using Flux: Adam, mae, update!\n",
    "using Flux\n",
    "using Optimisers\n",
    "using MAT\n",
    "using Plots\n",
    "using ProgressBars\n",
    "using Zygote: gradient as Zgrad\n",
    "\n",
    "# Load the KAN package from https://github.com/vpuri3/KolmogorovArnold.jl\n",
    "include(\"src/KolmogorovArnold.jl\")\n",
    "using .KolmogorovArnold\n",
    "#load the activation function getter (written for this project, see the corresponding script):\n",
    "include(\"Activation_getter.jl\")"
   ]
  },
  {
   "cell_type": "markdown",
   "metadata": {},
   "source": [
    "# Defining the ODE and Generating Data"
   ]
  },
  {
   "cell_type": "markdown",
   "metadata": {},
   "source": [
    "First we generate data from the ODE \n",
    "\n",
    "$$ \\begin{cases}\n",
    "x' &= \\alpha x - \\beta x y \\\\\n",
    "y' &= \\gamma x y - \\delta y \\end{cases}$$\n",
    "\n",
    "Note we'll define the function using the inplace style as this saves allocating space in memory, speeding up the execution. "
   ]
  },
  {
   "cell_type": "code",
   "execution_count": 2,
   "metadata": {},
   "outputs": [
    {
     "data": {
      "text/plain": [
       "lotka! (generic function with 1 method)"
      ]
     },
     "metadata": {},
     "output_type": "display_data"
    }
   ],
   "source": [
    "function lotka!(du, u, p, t)\n",
    "    α, β, γ, δ = p\n",
    "    du[1] = α * u[1] - β * u[2] * u[1]\n",
    "    du[2] = γ * u[1] * u[2] - δ * u[2]\n",
    "end"
   ]
  },
  {
   "cell_type": "markdown",
   "metadata": {},
   "source": [
    "Next we simulate the ODE and generate the data by defining a object of type [ODEProblem](https://docs.sciml.ai/DiffEqDocs/stable/types/ode_types/) and calling [solve](https://docs.sciml.ai/DiffEqDocs/stable/basics/common_solver_opts/#CommonSolve.solve-Tuple%7BSciMLBase.AbstractDEProblem,%20Vararg%7BAny%7D%7D) which are part of the `DifferentialEquations.jl` package."
   ]
  },
  {
   "cell_type": "code",
   "execution_count": 3,
   "metadata": {},
   "outputs": [
    {
     "data": {
      "text/plain": [
       "2×141 Matrix{Float64}:\n",
       " 1.0  1.06108   1.14403   1.24917   1.37764   …  1.58284   1.7727    1.99376\n",
       " 1.0  0.821084  0.679053  0.566893  0.478813     0.392679  0.343959  0.30753"
      ]
     },
     "metadata": {},
     "output_type": "display_data"
    }
   ],
   "source": [
    "#data generation parameters\n",
    "timestep=0.1\n",
    "n_plot_save=1000\n",
    "rng = Random.default_rng()\n",
    "Random.seed!(rng, 0)\n",
    "tspan = (0.0, 14)\n",
    "tspan_train=(0.0, 3.5)\n",
    "u0 = [1, 1]\n",
    "p_ = Float32[1.5, 1, 1, 3]\n",
    "prob = ODEProblem(lotka!, u0, tspan, p_)\n",
    "\n",
    "#generate training data, split into train/test\n",
    "solution = solve(prob, Tsit5(), abstol = 1e-12, reltol = 1e-12, saveat = timestep)\n",
    "end_index=Int64(floor(length(solution.t)*tspan_train[2]/tspan[2]))\n",
    "t = solution.t #full dataset\n",
    "t_train=t[1:end_index] #training cut\n",
    "#NOTE: What are these?\n",
    "X = Array(solution)\n",
    "Xn = deepcopy(X);"
   ]
  },
  {
   "cell_type": "markdown",
   "metadata": {},
   "source": [
    "# Defining the KAN"
   ]
  },
  {
   "cell_type": "markdown",
   "metadata": {},
   "source": [
    "Here we define the architecture of the KAN. Using the `KolmogorovArnold.jl` package, we can call Lux layers that are defined there to save us the work of defining them by ourselves. We may choose \n",
    "* which basis functions we would like (defined in `src/utils.jl`)\n",
    "* which normalizer functions we would like (defined in `src/utils.jl`)\n",
    "* the grid size the basis functions will use\n",
    "* the number of layers to our KAN\n",
    "* the width of the layers"
   ]
  },
  {
   "cell_type": "code",
   "execution_count": 5,
   "metadata": {},
   "outputs": [],
   "source": [
    "basis_func = rbf      # rbf, rswaf\n",
    "normalizer = tanh_fast # sigmoid(_fast), tanh(_fast), softsign \n",
    "grid_size=5 #Grid size for the activation functions \n",
    "##Not sure what this is? It seems like this normalizes the inputs \n",
    "##to be between -1,1,/0,1 but i dont quite see for sure where.\n",
    "num_layers=2 #number of layers in the KAN \n",
    "layer_width=10 #Width of each layer in the KAN (number of activation functions )\n",
    "\n",
    "kan1 = Lux.Chain(\n",
    "    KDense( 2, layer_width, grid_size; use_base_act = true, basis_func, normalizer),\n",
    "    KDense(layer_width,  2, grid_size; use_base_act = true, basis_func, normalizer),\n",
    ")\n",
    "pM , stM  = Lux.setup(rng, kan1) #Assign parameters and the state to memory\n",
    "\n",
    "\n",
    "pM_axis = getaxes(ComponentArray(pM))\n",
    "pM_data = getdata(ComponentArray(pM))\n",
    "p = (deepcopy(pM_data))./1e5 ;"
   ]
  },
  {
   "cell_type": "markdown",
   "metadata": {},
   "source": [
    "# Preparing to train\n",
    "\n",
    "## Construct a `NeuralODE` \n",
    "\n",
    "When we defined our KAN we constructed a model in Lux. With this type, we can easily pass it to the NeuralODE package for training. In order to train our model, we need to \n",
    "* Construct a `NeuralODE`\n",
    "* Define a loss function\n",
    "* Choose an optimizer\n",
    "* Choose an algorithm for constructing the gradient.\n",
    "\n",
    "In addition to training the model, we also want to see how well the model is predicting the future state of the ODE. To do this, we will instantiate a second `NeuralODE` called `train_node_test` which will have a timespan over the test set but will be built with the same `kan1`. This will allow us to easily see how our model performs over the test set."
   ]
  },
  {
   "cell_type": "code",
   "execution_count": null,
   "metadata": {},
   "outputs": [],
   "source": [
    "train_node      = NeuralODE(kan1, tspan_train, Tsit5(), saveat = t_train); \n",
    "train_node_test = NeuralODE(kan1, tspan, Tsit5(), saveat = t); #only difference is the time span\n",
    "\n",
    "function predict(p)\n",
    "    Array(train_node(u0, p, stM)[1])\n",
    "end\n",
    "function predict_test(p)\n",
    "    Array(train_node_test(u0, p, stM)[1])\n",
    "end"
   ]
  },
  {
   "cell_type": "markdown",
   "metadata": {},
   "source": [
    "## Define a loss function\n",
    "\n",
    "In order to train our model, we will need to specify a loss function. Probably the simplest loss function is the mean square error (MSE)\n",
    "$$\\mathcal{L}_1(\\theta) = MSE(u^{\\text{KAN}}(t, \\theta), u^{\\text{obs}}(t)) = \\frac{1}{N}\\sum_{i=1}^N \\lVert u^{\\text{KAN}}(t_i, \\theta) - u^{\\text{obs}}(t_i) \\rVert^2 $$ \n",
    "which are implemented as functions of the parameter `p` like so\n"
   ]
  },
  {
   "cell_type": "code",
   "execution_count": null,
   "metadata": {},
   "outputs": [],
   "source": [
    "function loss_train(p)\n",
    "    mean(abs2, Xn[:, 1:end_index].- predict(ComponentArray(p,pM_axis)))\n",
    "end\n",
    "function loss_test(p)\n",
    "    mean(abs2, Xn .- predict_test(ComponentArray(p,pM_axis)))\n",
    "end"
   ]
  },
  {
   "cell_type": "markdown",
   "metadata": {},
   "source": [
    "However, in KAN-ODEs paper, we may also want to include a term to encourage sparcity in our model. One way we can do this is to add an $l1$ norm term to our loss \n",
    "$$\\mathcal{L}_2(\\theta) = \\frac{1}{N}\\sum_{i=1}^N \\| u^{\\text{KAN}}(t_i, \\theta) - u^{\\text{obs}}(t_i) \\|^2  + \\gamma_{sp} | \\theta |_1 $$\n",
    "which introduces a sparcity hyperparameter $\\gamma_{sp}$ which we may control. We'll add the sparcity term as a function `reg_loss` and add it to the result of `loss_train` for our total loss function `loss`."
   ]
  },
  {
   "cell_type": "code",
   "execution_count": 3,
   "metadata": {},
   "outputs": [
    {
     "data": {
      "text/plain": [
       "loss (generic function with 1 method)"
      ]
     },
     "metadata": {},
     "output_type": "display_data"
    }
   ],
   "source": [
    "#regularization loss \n",
    "function reg_loss(p, reg=1.0)\n",
    "    l1_temp=(abs.(p))\n",
    "    activation_loss=sum(l1_temp)\n",
    "    activation_loss*act_reg\n",
    "end\n",
    "\n",
    "#overall loss is the sum of trhe training loss and the sparcity regularization loss\n",
    "function loss(p)\n",
    "    loss_temp=mean(abs2, Xn[:, 1:end_index].- predict(ComponentArray(p,pM_axis)))\n",
    "    if sparse_on==1\n",
    "        loss_temp+=reg_loss(p, 5e-4) #if we have sparsity enabled, add the reg loss\n",
    "    end\n",
    "    return loss_temp\n",
    "end"
   ]
  },
  {
   "cell_type": "markdown",
   "metadata": {},
   "source": [
    "## Choosing an Optimizer\n",
    "The `Flux.jl` has an assortment of optimizers to choose from. Here we will choose `Adam` with a learning rate of `5e-4`"
   ]
  },
  {
   "cell_type": "code",
   "execution_count": null,
   "metadata": {},
   "outputs": [],
   "source": [
    "optimizer = Flux.Adam(5e-4)"
   ]
  },
  {
   "cell_type": "markdown",
   "metadata": {},
   "source": [
    "## Choosing a Gradient Algorithm\n",
    "\n",
    "We are also able to choose which algorithm we would like to use to calculate the gradient of our loss function. We'll use the `Zgrad` alogirthm and include this explicitly when we do the training loop. (TODO: Why?)"
   ]
  },
  {
   "cell_type": "markdown",
   "metadata": {},
   "source": [
    "# Training Loop\n",
    "\n",
    "At this stage we have everything we need to start the training loop. \n",
    "\n",
    "We'll want to see how far along we are in our training algorithm, so we'll want to make use of the `ProgressBars.jl` package. Passing a range into `ProgressBar` creates an object with Julia can iterate over, which also includes some extra functionality. By default, a progress bar will now appear in our terminal showing how far along our for loop is, as well as the rate at which it is iterating. We can also include additional information such as the current loss with `set_description`.\n",
    "\n",
    "In the training loop, we only do 3 actions\n",
    "1. Calculate the gradient using `Zgrad`\n",
    "2. Update the parameters of the model\n",
    "3. Calculate the current loss and test loss and print them to the `ProgressBar`"
   ]
  },
  {
   "cell_type": "code",
   "execution_count": 2,
   "metadata": {},
   "outputs": [
    {
     "ename": "UndefVarError",
     "evalue": "UndefVarError: `Flux` not defined in `Main`\nSuggestion: check for spelling errors or missing imports.",
     "output_type": "error",
     "traceback": [
      "UndefVarError: `Flux` not defined in `Main`\n",
      "Suggestion: check for spelling errors or missing imports.\n",
      "\n",
      "Stacktrace:\n",
      " [1] top-level scope\n",
      "   @ ~/Projects/myKANs/KANODE/jl_notebook_cell_df34fa98e69747e1a8f8a730347b8e2f_X20sZmlsZQ==.jl:3"
     ]
    }
   ],
   "source": [
    "# TRAINING\n",
    "du = [0.0; 0.0]\n",
    "\n",
    "N_iter = 10\n",
    "##Actual training loop:\n",
    "iters=ProgressBar(1:N_iter)\n",
    " for i in iters\n",
    "    \n",
    "    # gradient computation\n",
    "    grad = Zgrad(loss, p)[1]\n",
    "\n",
    "    #model update\n",
    "    update!(optimizer, p, grad)\n",
    "\n",
    "    #loss metrics\n",
    "    loss_curr=deepcopy(loss_train(p))\n",
    "    loss_curr_test=deepcopy(loss_test(p))\n",
    "\n",
    "    set_description(iters, string(\"Loss:\", loss_curr, \"Test Loss:\" loss_curr_test))\n",
    "\n",
    "    #=\n",
    "    if i%n_plot_save==0\n",
    "        plot_save(l, l_test, p_list, i)\n",
    "    end\n",
    "    =#\n",
    "    \n",
    "end\n"
   ]
  }
 ],
 "metadata": {
  "kernelspec": {
   "display_name": "Julia 1.11.3",
   "language": "julia",
   "name": "julia-1.11"
  },
  "language_info": {
   "file_extension": ".jl",
   "mimetype": "application/julia",
   "name": "julia",
   "version": "1.11.3"
  }
 },
 "nbformat": 4,
 "nbformat_minor": 2
}
