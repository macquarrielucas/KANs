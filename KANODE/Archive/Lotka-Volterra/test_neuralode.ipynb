{
  "cells": [
    {
      "cell_type": "markdown",
      "metadata": {},
      "source": [
        "# Introduction to NeuralODEs"
      ]
    },
    {
      "cell_type": "markdown",
      "metadata": {},
      "source": [
        "A NeuralODE is a type of neural network that is designed to solve ordinary differential equations (ODEs). It's a powerful tool for modeling complex systems that change over time, such as population dynamics, chemical reactions, or physical systems."
      ]
    },
    {
      "cell_type": "code",
      "metadata": {},
      "source": [
        "using NeuralODEs"
      ]
    },
    {
      "cell_type": "code",
      "metadata": {},
      "source": [
        "function lotka_volterra!(du, u, p, t)\n",
        "  x, y = u\n",
        "  α, β, γ, δ = p\n",
        "  du[1] = dx = α * x - β * x * y\n",
        "  du[2] = dy = δ * x * y - γ * y\n",
        "  return nothing\n",
        "end"
      ]
    },
    {
      "cell_type": "code",
      "metadata": {},
      "source": [
        "p = [0.5, 0.02, 0.01, 0.2]\n",
        "u0 = [1.0, 1.0]\n",
        "tspan = (0.0, 10.0)\n",
        "prob = ODEProblem(lotka_volterra!, u0, tspan, p)\n",
        "sol = solve(prob, Tsit5())"
      ]
    },
    {
      "cell_type": "code",
      "metadata": {},
      "source": [
        "using Plots\n",
        "plot(sol)"
      ]
    }
  ],
  "metadata": {
    "kernelspec": {
      "display_name": "Julia 1.8.2",
      "language": "julia",
      "name": "julia-1.8"
    },
    "language_info": {
      "file_extension": ".jl",
      "mimetype": "application/julia",
      "name": "julia",
      "version": "1.8.2"
    }
  },
  "nbformat": 4,
  "nbformat_minor": 5
}
